{
 "cells": [
  {
   "cell_type": "code",
   "execution_count": 154,
   "metadata": {},
   "outputs": [],
   "source": [
    "# this is the main script which executes the task\n",
    "## roughly they are\n",
    "## 1. initialise the spider\n",
    "## 2. navigate to the live leads page\n",
    "## 3. send requests and get response\n",
    "## 4. repeat\n",
    "\n",
    "\n",
    "from selenium import webdriver\n",
    "from selenium.webdriver.common.keys import Keys\n",
    "# from selenium import WebElement\n",
    "from selenium.webdriver.support.ui import WebDriverWait\n",
    "from selenium.webdriver.support import expected_conditions as EC\n",
    "from selenium.webdriver.common.by import By\n",
    "from selenium.common.exceptions import TimeoutException\n",
    "from tqdm import tqdm\n",
    "from bs4 import BeautifulSoup\n",
    "import re\n",
    "import pandas as pd\n",
    "import os\n",
    "import time\n",
    "\n",
    "url = \"https://app.monetizer.com/\"\n",
    "username = \"perry96121@gmail.com\"\n",
    "password = \"Qg8RlLdnl7\"\n",
    "cycle = 5 # limit of number of cycles \n",
    "N = 50 # maximum entries per cycle before conflic resolution\n",
    "save_file = 'save.csv'"
   ]
  },
  {
   "cell_type": "code",
   "execution_count": 155,
   "metadata": {},
   "outputs": [],
   "source": [
    "driver = webdriver.Chrome()\n",
    "# driver = webdriver.Firefox()\n",
    "driver.get(url)\n",
    "driver.implicitly_wait(60)\n",
    "\n",
    "user = driver.find_element_by_id(\"username\")\n",
    "user.send_keys(username)\n",
    "passw = driver.find_element_by_id(\"password\")\n",
    "passw.send_keys(password)\n",
    "driver.implicitly_wait(30)\n",
    "\n",
    "enter_button = driver.find_element_by_xpath(\"//input[@type='submit']\")\n",
    "enter_button.click()\n",
    "\n",
    "driver.implicitly_wait(20)\n",
    "## to the live leads\n",
    "liveleads_button = driver.find_element_by_id(\"menu_liveleadsButton\")\n",
    "liveleads_button.click()"
   ]
  },
  {
   "cell_type": "code",
   "execution_count": 156,
   "metadata": {
    "collapsed": true
   },
   "outputs": [
    {
     "name": "stdout",
     "output_type": "stream",
     "text": [
      "==================== 0 ====================\n",
      "page ready\n"
     ]
    },
    {
     "name": "stderr",
     "output_type": "stream",
     "text": [
      "100%|█████████████████████████████████████████████████████████████████████████████████| 50/50 [00:00<00:00, 928.42it/s]\n"
     ]
    },
    {
     "name": "stdout",
     "output_type": "stream",
     "text": [
      "   Amount Country Offer ID          Tag             Time\n",
      "0   $0.06      PK  #3c9a1a  #aggressive  Jun 25th, 17:42\n",
      "1   $0.27      EG  #2c1740  #mainstream  Jun 25th, 17:42\n",
      "2   $0.27      EG  #2c1740  #mainstream  Jun 25th, 17:42\n",
      "3   $0.32      IT  #54f0e0  #aggressive  Jun 25th, 17:42\n",
      "4   $0.20      KZ  #b6019c  #mainstream  Jun 25th, 17:42\n",
      "5   $0.06      IN  #a96580  #aggressive  Jun 25th, 17:42\n",
      "6   $0.08      US  #2ffbf0  #aggressive  Jun 25th, 17:42\n",
      "7   $0.12      IT  #6ecbc3  #mainstream  Jun 25th, 17:42\n",
      "8   $2.80      IT  #f3e144  #mainstream  Jun 25th, 17:42\n",
      "9   $0.72      IT  #945963  #mainstream  Jun 25th, 17:42\n",
      "10  $0.21      KR  #347ef7  #aggressive  Jun 25th, 17:42\n",
      "11  $0.27      EG  #2c1740  #mainstream  Jun 25th, 17:42\n",
      "12  $0.45      HK  #c86339  #mainstream  Jun 25th, 17:42\n",
      "13  $5.44      PE  #52a563  #mainstream  Jun 25th, 17:42\n",
      "14  $0.16      TZ  #68f7eb  #mainstream  Jun 25th, 17:42\n",
      "15  $0.21      EG  #e49967  #aggressive  Jun 25th, 17:42\n",
      "16  $0.41      IR  #2e99b6  #mainstream  Jun 25th, 17:42\n",
      "17  $0.27      EG  #0809ed  #mainstream  Jun 25th, 17:42\n",
      "18  $0.20      BR  #d5cb33  #aggressive  Jun 25th, 17:42\n",
      "19  $0.40      JP  #4277bf  #aggressive  Jun 25th, 17:42\n",
      "20  $0.12      IT  #6ecbc3  #mainstream  Jun 25th, 17:42\n",
      "21  $0.50      US  #ea1112  #mainstream  Jun 25th, 17:42\n",
      "22  $0.12      IT  #6ecbc3  #mainstream  Jun 25th, 17:42\n",
      "23  $0.07      US  #b4ec6d  #mainstream  Jun 25th, 17:42\n",
      "24  $0.27      EG  #0809ed  #mainstream  Jun 25th, 17:42\n",
      "25  $0.06      PK  #7b0e3b  #aggressive  Jun 25th, 17:42\n",
      "26  $0.32      EG  #9800c4  #mainstream  Jun 25th, 17:42\n",
      "27  $0.36      IR  #786213  #mainstream  Jun 25th, 17:42\n",
      "28  $0.36      IR  #786213  #mainstream  Jun 25th, 17:42\n",
      "29  $0.27      EG  #0809ed  #mainstream  Jun 25th, 17:42\n",
      "30  $0.07      US  #b4ec6d  #mainstream  Jun 25th, 17:42\n",
      "31  $0.05      ID  #d4e98b  #mainstream  Jun 25th, 17:42\n",
      "32  $0.27      EG  #2c1740  #mainstream  Jun 25th, 17:42\n",
      "33  $0.06      MY  #ae0d8e  #aggressive  Jun 25th, 17:42\n",
      "34  $0.02      BD  #566132  #mainstream  Jun 25th, 17:42\n",
      "35  $0.15      BR  #fdd0ce  #aggressive  Jun 25th, 17:42\n",
      "36  $0.27      EG  #0809ed  #mainstream  Jun 25th, 17:42\n",
      "37  $0.72      IT  #945963  #mainstream  Jun 25th, 17:42\n",
      "38  $0.08      IN  #47d6de  #aggressive  Jun 25th, 17:42\n",
      "39  $0.03      PK  #0f0e68       #adult  Jun 25th, 17:42\n",
      "40  $0.02      BD  #566132  #mainstream  Jun 25th, 17:42\n",
      "41  $0.16      IT  #4d57a9  #mainstream  Jun 25th, 17:42\n",
      "42  $0.80      EG  #65906f       #adult  Jun 25th, 17:42\n",
      "43  $0.02      BD  #566132  #mainstream  Jun 25th, 17:42\n",
      "44  $2.16      US  #aaaac2  #mainstream  Jun 25th, 17:42\n",
      "45  $0.12      IT  #6ecbc3  #mainstream  Jun 25th, 17:42\n",
      "46  $0.04      TZ  #68f7eb  #mainstream  Jun 25th, 17:42\n",
      "47  $0.48      EG  #db66cb  #mainstream  Jun 25th, 17:42\n",
      "48  $0.06      ID  #96e0b9  #mainstream  Jun 25th, 17:42\n",
      "49  $0.07      US  #b4ec6d  #mainstream  Jun 25th, 17:42\n",
      "do we get here?\n",
      "==================== 1 ====================\n",
      "page ready\n"
     ]
    },
    {
     "name": "stderr",
     "output_type": "stream",
     "text": [
      "100%|████████████████████████████████████████████████████████████████████████████████| 50/50 [00:00<00:00, 1066.66it/s]\n"
     ]
    },
    {
     "name": "stdout",
     "output_type": "stream",
     "text": [
      "   Amount Country Offer ID          Tag             Time\n",
      "0   $0.06      PK  #3c9a1a  #aggressive  Jun 25th, 17:42\n",
      "1   $0.27      EG  #2c1740  #mainstream  Jun 25th, 17:42\n",
      "2   $0.27      EG  #2c1740  #mainstream  Jun 25th, 17:42\n",
      "3   $0.32      IT  #54f0e0  #aggressive  Jun 25th, 17:42\n",
      "4   $0.20      KZ  #b6019c  #mainstream  Jun 25th, 17:42\n",
      "5   $0.06      IN  #a96580  #aggressive  Jun 25th, 17:42\n",
      "6   $0.08      US  #2ffbf0  #aggressive  Jun 25th, 17:42\n",
      "7   $0.12      IT  #6ecbc3  #mainstream  Jun 25th, 17:42\n",
      "8   $2.80      IT  #f3e144  #mainstream  Jun 25th, 17:42\n",
      "9   $0.72      IT  #945963  #mainstream  Jun 25th, 17:42\n",
      "10  $0.21      KR  #347ef7  #aggressive  Jun 25th, 17:42\n",
      "11  $0.27      EG  #2c1740  #mainstream  Jun 25th, 17:42\n",
      "12  $0.45      HK  #c86339  #mainstream  Jun 25th, 17:42\n",
      "13  $5.44      PE  #52a563  #mainstream  Jun 25th, 17:42\n",
      "14  $0.16      TZ  #68f7eb  #mainstream  Jun 25th, 17:42\n",
      "15  $0.21      EG  #e49967  #aggressive  Jun 25th, 17:42\n",
      "16  $0.41      IR  #2e99b6  #mainstream  Jun 25th, 17:42\n",
      "17  $0.27      EG  #0809ed  #mainstream  Jun 25th, 17:42\n",
      "18  $0.20      BR  #d5cb33  #aggressive  Jun 25th, 17:42\n",
      "19  $0.40      JP  #4277bf  #aggressive  Jun 25th, 17:42\n",
      "20  $0.12      IT  #6ecbc3  #mainstream  Jun 25th, 17:42\n",
      "21  $0.50      US  #ea1112  #mainstream  Jun 25th, 17:42\n",
      "22  $0.12      IT  #6ecbc3  #mainstream  Jun 25th, 17:42\n",
      "23  $0.07      US  #b4ec6d  #mainstream  Jun 25th, 17:42\n",
      "24  $0.27      EG  #0809ed  #mainstream  Jun 25th, 17:42\n",
      "25  $0.06      PK  #7b0e3b  #aggressive  Jun 25th, 17:42\n",
      "26  $0.32      EG  #9800c4  #mainstream  Jun 25th, 17:42\n",
      "27  $0.36      IR  #786213  #mainstream  Jun 25th, 17:42\n",
      "28  $0.36      IR  #786213  #mainstream  Jun 25th, 17:42\n",
      "29  $0.27      EG  #0809ed  #mainstream  Jun 25th, 17:42\n",
      "30  $0.07      US  #b4ec6d  #mainstream  Jun 25th, 17:42\n",
      "31  $0.05      ID  #d4e98b  #mainstream  Jun 25th, 17:42\n",
      "32  $0.27      EG  #2c1740  #mainstream  Jun 25th, 17:42\n",
      "33  $0.06      MY  #ae0d8e  #aggressive  Jun 25th, 17:42\n",
      "34  $0.02      BD  #566132  #mainstream  Jun 25th, 17:42\n",
      "35  $0.15      BR  #fdd0ce  #aggressive  Jun 25th, 17:42\n",
      "36  $0.27      EG  #0809ed  #mainstream  Jun 25th, 17:42\n",
      "37  $0.72      IT  #945963  #mainstream  Jun 25th, 17:42\n",
      "38  $0.08      IN  #47d6de  #aggressive  Jun 25th, 17:42\n",
      "39  $0.03      PK  #0f0e68       #adult  Jun 25th, 17:42\n",
      "40  $0.02      BD  #566132  #mainstream  Jun 25th, 17:42\n",
      "41  $0.16      IT  #4d57a9  #mainstream  Jun 25th, 17:42\n",
      "42  $0.80      EG  #65906f       #adult  Jun 25th, 17:42\n",
      "43  $0.02      BD  #566132  #mainstream  Jun 25th, 17:42\n",
      "44  $2.16      US  #aaaac2  #mainstream  Jun 25th, 17:42\n",
      "45  $0.12      IT  #6ecbc3  #mainstream  Jun 25th, 17:42\n",
      "46  $0.04      TZ  #68f7eb  #mainstream  Jun 25th, 17:42\n",
      "47  $0.48      EG  #db66cb  #mainstream  Jun 25th, 17:42\n",
      "48  $0.06      ID  #96e0b9  #mainstream  Jun 25th, 17:42\n",
      "49  $0.07      US  #b4ec6d  #mainstream  Jun 25th, 17:42\n",
      "do we get here?\n"
     ]
    },
    {
     "ename": "KeyboardInterrupt",
     "evalue": "",
     "output_type": "error",
     "traceback": [
      "\u001b[1;31m---------------------------------------------------------------------------\u001b[0m",
      "\u001b[1;31mKeyboardInterrupt\u001b[0m                         Traceback (most recent call last)",
      "\u001b[1;32m<ipython-input-156-9269d12eb051>\u001b[0m in \u001b[0;36m<module>\u001b[1;34m()\u001b[0m\n\u001b[0;32m      1\u001b[0m \u001b[1;31m# fun begins here\u001b[0m\u001b[1;33m\u001b[0m\u001b[1;33m\u001b[0m\u001b[0m\n\u001b[1;32m----> 2\u001b[1;33m \u001b[0mbegin_extract\u001b[0m\u001b[1;33m(\u001b[0m\u001b[0mdriver\u001b[0m\u001b[1;33m,\u001b[0m \u001b[0mcycle\u001b[0m\u001b[1;33m,\u001b[0m \u001b[0mN\u001b[0m\u001b[1;33m,\u001b[0m \u001b[0msave_file\u001b[0m\u001b[1;33m)\u001b[0m\u001b[1;33m\u001b[0m\u001b[0m\n\u001b[0m",
      "\u001b[1;32m<ipython-input-148-e7663c31a110>\u001b[0m in \u001b[0;36mbegin_extract\u001b[1;34m(driver, limit_cycle, N, save_file)\u001b[0m\n\u001b[0;32m     37\u001b[0m         \u001b[0mi\u001b[0m\u001b[1;33m+=\u001b[0m\u001b[1;36m1\u001b[0m\u001b[1;33m\u001b[0m\u001b[0m\n\u001b[0;32m     38\u001b[0m         \u001b[1;31m# sleep for 30 seconds to wait for the next iteration\u001b[0m\u001b[1;33m\u001b[0m\u001b[1;33m\u001b[0m\u001b[0m\n\u001b[1;32m---> 39\u001b[1;33m         \u001b[0mtime\u001b[0m\u001b[1;33m.\u001b[0m\u001b[0msleep\u001b[0m\u001b[1;33m(\u001b[0m\u001b[1;36m20\u001b[0m\u001b[1;33m)\u001b[0m\u001b[1;33m\u001b[0m\u001b[0m\n\u001b[0m",
      "\u001b[1;31mKeyboardInterrupt\u001b[0m: "
     ]
    }
   ],
   "source": [
    "# fun begins here\n",
    "begin_extract(driver, cycle, N, save_file)"
   ]
  },
  {
   "cell_type": "code",
   "execution_count": 85,
   "metadata": {},
   "outputs": [],
   "source": [
    "# ## we will have to repeat this for 1 to N \n",
    "# time = elements[0].span.contents[0]\n",
    "# infos = elements[0].find_all('span', class_='newsInfo')[0].contents\n",
    "# country = infos[0].replace('\\n','').strip()\n",
    "# tag = infos[1].contents[0]\n",
    "# offerid = infos[5].contents[0]\n",
    "# money = elements[0].find('span',class_=\"theMonie\").contents[0]"
   ]
  },
  {
   "cell_type": "code",
   "execution_count": 148,
   "metadata": {},
   "outputs": [],
   "source": [
    "def begin_extract(driver, limit_cycle, N, save_file):\n",
    "    i = 0\n",
    "    old_data=None\n",
    "    while(i<limit_cycle):\n",
    "        print('====================',i, '====================')\n",
    "        driver.refresh()\n",
    "        try:\n",
    "            element = WebDriverWait(driver, 30).until(EC.presence_of_element_located((By.XPATH,\n",
    "                \"//li[@class='offerRow list-group-item']\"\n",
    "                # \"//div[@class='offerList']\"\n",
    "                )))\n",
    "            print('page ready')\n",
    "        except TimeoutException:\n",
    "            print('took too long... will skip this cycle')\n",
    "            break\n",
    "        ## if the page loads the content successfully then proceed \n",
    "        soup_level1=BeautifulSoup(driver.page_source,'lxml')\n",
    "        elements = soup_level1.find_all(\"li\", class_=\"offrRow list-group-item\".split())\n",
    "        ## strip new data\n",
    "        new_data = strip_info(elements, N)\n",
    "        \n",
    "        ## solve conflict between the existing data and the new; to remove duplicated entries \n",
    "        if(i==0):\n",
    "            old_data = new_data\n",
    "            old_data.to_csv(save_file, header=True, index=False, mode='a')\n",
    "        else:\n",
    "            solved = solve_duplicate(old_data,new_data)\n",
    "            solved.append(old_data)\n",
    "            old_data.to_csv(save_file, header=False, index=False, mode='a')\n",
    "            old_data = old_data.head(100)\n",
    "            \n",
    "        # lastly, the ugly\n",
    "        i+=1\n",
    "        # sleep for 30 seconds to wait for the next iteration\n",
    "        time.sleep(20)"
   ]
  },
  {
   "cell_type": "code",
   "execution_count": 127,
   "metadata": {
    "scrolled": true
   },
   "outputs": [],
   "source": [
    "def strip_info(elements, N):\n",
    "    times=[]\n",
    "    countries=[]\n",
    "    tags=[]\n",
    "    offerids=[]\n",
    "    monies=[]\n",
    "    for i in tqdm(range(N)):\n",
    "        # extract\n",
    "        time = elements[i].span.contents[0]\n",
    "        infos = elements[i].find_all('span', class_='newsInfo')[0].contents\n",
    "        country = infos[0].replace('\\n','').strip()\n",
    "        tag = infos[1].contents[0]\n",
    "        offerid = infos[5].contents[0]\n",
    "        money = elements[i].find('span',class_=\"theMonie\").contents[0]\n",
    "        # to columns for binding\n",
    "        times.append(time)\n",
    "        countries.append(country)\n",
    "        tags.append(tag)\n",
    "        offerids.append(offerid)\n",
    "        monies.append(money)        \n",
    "    \n",
    "    # append into dataframe and return\n",
    "    df = pd.DataFrame({'Time':times, 'Country':countries, 'Tag':tags, 'Offer ID':offerids, 'Amount':monies})\n",
    "    return(df)"
   ]
  },
  {
   "cell_type": "code",
   "execution_count": 128,
   "metadata": {},
   "outputs": [],
   "source": [
    "def solve_duplicate(old, new):\n",
    "    return(new)"
   ]
  },
  {
   "cell_type": "code",
   "execution_count": null,
   "metadata": {},
   "outputs": [],
   "source": []
  }
 ],
 "metadata": {
  "kernelspec": {
   "display_name": "Python 3",
   "language": "python",
   "name": "python3"
  },
  "language_info": {
   "codemirror_mode": {
    "name": "ipython",
    "version": 3
   },
   "file_extension": ".py",
   "mimetype": "text/x-python",
   "name": "python",
   "nbconvert_exporter": "python",
   "pygments_lexer": "ipython3",
   "version": "3.6.4"
  }
 },
 "nbformat": 4,
 "nbformat_minor": 2
}
